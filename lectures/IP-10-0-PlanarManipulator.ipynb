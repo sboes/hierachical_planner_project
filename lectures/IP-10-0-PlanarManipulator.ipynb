{
 "cells": [
  {
   "cell_type": "markdown",
   "id": "4ae7c342-b891-4ef0-8407-931cb58aacc8",
   "metadata": {},
   "source": [
    "Planar Robots with joints\n",
    "=========================\n",
    "\n",
    "**Topic**: Pathplanning for planar robots with rotary joints\n",
    "\n",
    "Version | Author | Remark\n",
    "------------ | ------------- | -------------\n",
    "0.1 | Gergely Sotí | Base concept implemented and prepared\n",
    "0.2 | Björn Hein | Minor textual additions and corrections\n",
    "\n",
    "\n",
    "This worksheet **explains the basic concepts when applying path planning algorithm to planar robots with rotary joints** \n",
    "\n",
    "\n",
    "**ATTENTION**: You will have to have installed the python library sympy: https://www.sympy.org/en/index.html\n",
    "\n",
    "License is based on Creative Commons: Attribution-NonCommercial 4.0 International (CC BY-NC 4.0) (pls. check: http://creativecommons.org/licenses/by-nc/4.0/)\n",
    "\n",
    "\n",
    "Important links are:\n",
    "\n",
    "    General Info: http://www.python.org\n",
    "    Python tutorial http://www.python.org/doc/tut/\n",
    "    NetworkX http://networkx.github.io/\n",
    "    NumPy and SciPy Guide http://docs.scipy.org/\n",
    "    Matplotlib gallery http://matplotlib.sourceforge.net/gallery.html\n",
    "\n",
    "Remember that:\n",
    "\n",
    "    you have to press ctrl-return or shift-return, to execute the code in the code sections, only then the variables are \"generated\" and can be used\n",
    "    you can execute the whole notebook by Cell->runAll"
   ]
  },
  {
   "cell_type": "markdown",
   "id": "e70318df",
   "metadata": {},
   "source": [
    "**Attention**: package sympy is needed(!)"
   ]
  },
  {
   "cell_type": "code",
   "id": "aa318739",
   "metadata": {},
   "source": [
    "#!pip install sympy"
   ],
   "outputs": [],
   "execution_count": null
  },
  {
   "cell_type": "code",
   "id": "pleasant-leone",
   "metadata": {},
   "source": [
    "import sys\n",
    "sys.path.append(\".\")\n",
    "\n",
    "%load_ext autoreload\n",
    "%autoreload 2\n",
    "\n",
    "import math"
   ],
   "outputs": [],
   "execution_count": null
  },
  {
   "metadata": {},
   "cell_type": "code",
   "source": "from IPPlanarManipulator import PlanarJoint, PlanarRobot",
   "id": "1ed78699d1deddbc",
   "outputs": [],
   "execution_count": null
  },
  {
   "metadata": {},
   "cell_type": "markdown",
   "source": [
    "Kinematic chains\n",
    "====\n",
    "Joint D-H parameters simplified for planar case:\n",
    "\n",
    "$\\theta$: joint rotation\n",
    "\n",
    "a: joint displacement (=1.5 in this simple setup)\n",
    "\n",
    "d and $\\alpha$ are omitted.\n",
    "\n",
    "A Planar robot with 2 joints. (We use 2 joints in this example, as the sampling in the BasicPRM class samples in 2 dimensions)"
   ],
   "id": "f444066cf2552b5a"
  },
  {
   "metadata": {},
   "cell_type": "code",
   "source": [
    "j = PlanarJoint()\n",
    "# Printing joint at 0.0\n",
    "print(j.get_transform())\n",
    "\n",
    "# Printing joint at 0.8 (rad)\n",
    "j.move(0.8)\n",
    "print(j.get_transform())\n",
    "\n",
    "#Printing joint at pi \n",
    "j.move(math.pi/2)\n",
    "print(j.get_transform())\n",
    "\n",
    "# Planar with two joints and length 1.5 of segments.\n",
    "r = PlanarRobot(n_joints=2)\n",
    "r.move([0.0, math.pi/2])\n",
    "print(r.get_transforms())"
   ],
   "id": "2c9d6c1d55ca4891",
   "outputs": [],
   "execution_count": null
  },
  {
   "metadata": {},
   "cell_type": "markdown",
   "source": [
    "Kinematic chain collision checker\n",
    "========\n",
    "Maps joint positions to task space positions of the joints, and uses those for collision checking. Lines in joint space correspond to a movement in task space. To check those for collisions, the joint space line is discretized and each point is checked for collision in task space.  "
   ],
   "id": "e36c9621416b0ed4"
  },
  {
   "metadata": {},
   "cell_type": "code",
   "source": [
    "from IPEnvironment import CollisionChecker\n",
    "import numpy as np\n",
    "import copy\n",
    "\n",
    "def interpolate_line(startPos, endPos, step_l):\n",
    "    steps = []\n",
    "    line = np.array(endPos) - np.array(startPos)\n",
    "    line_l = np.linalg.norm(line)\n",
    "    step = line / line_l * step_l\n",
    "    n_steps = np.floor(line_l / step_l).astype(np.int32)\n",
    "    c_step = np.array(startPos)\n",
    "    for i in range(n_steps):\n",
    "        steps.append(copy.deepcopy(c_step))\n",
    "        c_step += step\n",
    "    if not (c_step == np.array(endPos)).all():\n",
    "        steps.append(np.array(endPos))\n",
    "    return steps\n",
    "    \n",
    "\n",
    "class KinChainCollisionChecker(CollisionChecker):\n",
    "    def __init__(self, kin_chain, scene, limits=[[-3.0, 3.0], [-3.0, 3.0]], statistic=None, fk_resolution=0.1):\n",
    "        super(KinChainCollisionChecker, self).__init__(scene, limits, statistic)\n",
    "        self.kin_chain = kin_chain\n",
    "        self.fk_resolution = fk_resolution\n",
    "        self.dim = self.kin_chain.dim\n",
    "\n",
    "    def getDim(self):\n",
    "        return self.dim\n",
    "        \n",
    "    \n",
    "    def pointInCollision(self, pos):\n",
    "        self.kin_chain.move(pos)\n",
    "        joint_positions = self.kin_chain.get_transforms()\n",
    "        self.dim = 2\n",
    "        for i in range(1, len(joint_positions)):\n",
    "            if self.segmentInCollision(joint_positions[i-1], joint_positions[i]):\n",
    "                self.dim = self.kin_chain.dim\n",
    "                return True\n",
    "        self.dim = self.kin_chain.dim\n",
    "        return False\n",
    "    \n",
    "    def lineInCollision(self, startPos, endPos):\n",
    "        assert (len(startPos) == self.getDim())\n",
    "        assert (len(endPos) == self.getDim())\n",
    "        steps = interpolate_line(startPos, endPos, self.fk_resolution)\n",
    "        for pos in steps:\n",
    "            if self.pointInCollision(pos):\n",
    "                return True\n",
    "        return False\n",
    "    \n",
    "    def segmentInCollision(self, startPos, endPos):\n",
    "        assert (len(startPos) == self.getDim())\n",
    "        assert (len(endPos) == self.getDim())\n",
    "        for key, value in self.scene.items():\n",
    "            if value.intersects(LineString([(startPos[0], startPos[1]), (endPos[0], endPos[1])])):\n",
    "                return True\n",
    "        return False\n",
    "    \n",
    "    def drawObstacles(self, ax, inWorkspace=False):\n",
    "        if inWorkspace:\n",
    "            for key, value in self.scene.items():\n",
    "                plotting.plot_polygon(value, add_points=False, color='red', ax=ax)"
   ],
   "id": "bacef1a46431aeb4",
   "outputs": [],
   "execution_count": null
  },
  {
   "cell_type": "code",
   "id": "reflected-match",
   "metadata": {},
   "source": [
    "import matplotlib.pyplot as plt\n",
    "from shapely.geometry import Point, Polygon, LineString\n",
    "from shapely import plotting\n",
    "#from descartes.patch import PolygonPatch"
   ],
   "outputs": [],
   "execution_count": null
  },
  {
   "metadata": {},
   "cell_type": "markdown",
   "source": [
    "Robot visualization in task space\n",
    "====\n",
    "Joint positions are mapped to the position of joints in task space. A line ins drawn between the joint postions."
   ],
   "id": "d2460acdb3a1eb51"
  },
  {
   "metadata": {},
   "cell_type": "code",
   "source": [
    "def planarRobotVisualize(kin_chain, ax):\n",
    "    joint_positions = kin_chain.get_transforms()\n",
    "    for i in range(1, len(joint_positions)):\n",
    "        xs = [joint_positions[i-1][0], joint_positions[i][0]]\n",
    "        ys = [joint_positions[i-1][1], joint_positions[i][1]]\n",
    "        ax.plot(xs, ys, color='g')"
   ],
   "id": "c2e9bc0635d21b0d",
   "outputs": [],
   "execution_count": null
  },
  {
   "cell_type": "code",
   "id": "rolled-cedar",
   "metadata": {},
   "source": [
    "\n",
    "obst = dict()\n",
    "obst[\"obs1\"] = LineString([(-2, 0), (-0.8, 0)]).buffer(0.5)\n",
    "obst[\"obs2\"] = LineString([(2, 0), (2, 1)]).buffer(0.2)\n",
    "obst[\"obs3\"] = LineString([(-1, 2), (1, 2)]).buffer(0.1)\n",
    "\n",
    "## create environment with robot and obstacle\n",
    "environment = KinChainCollisionChecker(r, obst,fk_resolution=.2)\n",
    "\n",
    "fig_local = plt.figure(figsize=(14, 7))\n",
    "## right figure for robot start position\n",
    "ax1 = fig_local.add_subplot(1, 2, 1)\n",
    "ax1.set_xlim([-3,3])\n",
    "ax1.set_ylim([-3,3])\n",
    "environment.drawObstacles(ax1, True)\n",
    "start_joint_pos = [2.0, 0.5]\n",
    "r.move(start_joint_pos)\n",
    "planarRobotVisualize(r, ax1)\n",
    "## left figure robot goal position\n",
    "ax2 = fig_local.add_subplot(1, 2, 2)\n",
    "ax2.set_xlim([-3,3])\n",
    "ax2.set_ylim([-3,3])\n",
    "environment.drawObstacles(ax2, True)\n",
    "end_joint_pos = [-2.0, -0.5]\n",
    "r.move(end_joint_pos)\n",
    "planarRobotVisualize(r, ax2)\n",
    "\n",
    "plt.show()"
   ],
   "outputs": [],
   "execution_count": null
  },
  {
   "cell_type": "code",
   "id": "velvet-telling",
   "metadata": {
    "tags": []
   },
   "source": "environment.pointInCollision(start_joint_pos)",
   "outputs": [],
   "execution_count": null
  },
  {
   "cell_type": "code",
   "id": "31029ccd",
   "metadata": {},
   "source": "environment.pointInCollision(end_joint_pos)",
   "outputs": [],
   "execution_count": null
  },
  {
   "metadata": {},
   "cell_type": "markdown",
   "source": [
    "Graph visualization with Animation\n",
    "======"
   ],
   "id": "d72c96b6ad423014"
  },
  {
   "metadata": {},
   "cell_type": "code",
   "source": [
    "import matplotlib.animation\n",
    "from IPython.display import HTML\n",
    "\n",
    "matplotlib.rcParams['animation.embed_limit'] = 64\n",
    "def animateSolution(planner, environment, solution, visualizer):\n",
    "    _planner = planner\n",
    "    _environment = environment\n",
    "    _solution = solution\n",
    "    _prmVisualizer = visualizer\n",
    "    \n",
    "    fig_local = plt.figure(figsize=(14, 7))\n",
    "    ax1 = fig_local.add_subplot(1, 2, 1)\n",
    "    ax2 = fig_local.add_subplot(1, 2, 2)\n",
    "    ## get positions for solution\n",
    "    solution_pos = [_planner.graph.nodes[node]['pos'] for node in _solution]\n",
    "    ## interpolate to obtain a smoother movement\n",
    "    i_solution_pos = [solution_pos[0]]\n",
    "    for i in range(1, len(solution_pos)):\n",
    "        segment_s = solution_pos[i-1]\n",
    "        segment_e = solution_pos[i]\n",
    "        i_solution_pos = i_solution_pos + interpolate_line(segment_s, segment_e, 0.1)[1:]\n",
    "    ## animate\n",
    "    frames = len(i_solution_pos)\n",
    "    \n",
    "    def animate(t):\n",
    "        ## clear taks space figure\n",
    "        ax1.cla()\n",
    "        ## fix figure size\n",
    "        ax1.set_xlim([-3,3])\n",
    "        ax1.set_ylim([-3,3])\n",
    "        ## draw obstacles\n",
    "        _environment.drawObstacles(ax1, inWorkspace = True)\n",
    "        ## update robot position\n",
    "        pos = i_solution_pos[t]\n",
    "        r.move(pos)\n",
    "        planarRobotVisualize(r, ax1)\n",
    "    \n",
    "        ## clear joint space figure\n",
    "        ax2.cla()\n",
    "        ## draw graph and path\n",
    "        _prmVisualizer(_planner, solution, ax2)\n",
    "        ## draw current position in joint space\n",
    "        ax2.scatter(i_solution_pos[t][0], i_solution_pos[t][1], color='r', zorder=10, s=250)\n",
    "\n",
    "    ani = matplotlib.animation.FuncAnimation(fig_local, animate, frames=frames)\n",
    "    html = HTML(ani.to_jshtml())\n",
    "    display(html)\n",
    "    plt.close()\n"
   ],
   "id": "3564ecc7a4ce19c9",
   "outputs": [],
   "execution_count": null
  },
  {
   "metadata": {},
   "cell_type": "markdown",
   "source": "# Path planning",
   "id": "f731dd12edd91b61"
  },
  {
   "cell_type": "markdown",
   "id": "russian-tourist",
   "metadata": {},
   "source": "## Basic PRM"
  },
  {
   "metadata": {},
   "cell_type": "code",
   "source": [
    "import IPBasicPRM\n",
    "import IPVISBasicPRM"
   ],
   "id": "d6e018a386a25479",
   "outputs": [],
   "execution_count": null
  },
  {
   "cell_type": "code",
   "id": "3756ed93-6354-4014-bdc2-836ede4f4acc",
   "metadata": {
    "tags": []
   },
   "source": [
    "## create BasicPRM with the kinematic chain collision checker\n",
    "basicPRM = IPBasicPRM.BasicPRM(environment)\n",
    "basicConfig = dict()\n",
    "basicConfig[\"radius\"] = 5\n",
    "basicConfig[\"numNodes\"] = 200\n",
    "\n",
    "start = [start_joint_pos]\n",
    "goal  = [end_joint_pos]\n",
    "## plan path from start ot goal\n",
    "solution = basicPRM.planPath(start, goal, basicConfig)\n",
    "print(start, goal)\n",
    "print(solution)"
   ],
   "outputs": [],
   "execution_count": null
  },
  {
   "cell_type": "code",
   "id": "efa0040a-6cb9-4093-bb46-9a6b3ea87467",
   "metadata": {
    "tags": []
   },
   "source": "animateSolution(basicPRM, environment, solution, IPVISBasicPRM.basicPRMVisualize)",
   "outputs": [],
   "execution_count": null
  },
  {
   "metadata": {},
   "cell_type": "markdown",
   "source": "## Visibility PRM",
   "id": "b6bd5ba49d9a10ad"
  },
  {
   "metadata": {},
   "cell_type": "code",
   "source": [
    "import IPVisibilityPRM\n",
    "import IPVISVisibilityPRM\n"
   ],
   "id": "e2f9102b24a0015f",
   "outputs": [],
   "execution_count": null
  },
  {
   "cell_type": "code",
   "id": "mechanical-defendant",
   "metadata": {},
   "source": [
    "visbilityConfig = dict()\n",
    "visbilityConfig[\"ntry\"] = 50\n",
    "\n",
    "visibilityPRM = IPVisibilityPRM.VisPRM(environment)\n",
    "start = [start_joint_pos]\n",
    "goal  = [end_joint_pos]\n",
    "## plan path from start ot goal\n",
    "solution = visibilityPRM.planPath(start, goal, visbilityConfig)\n",
    "print(solution)"
   ],
   "outputs": [],
   "execution_count": null
  },
  {
   "cell_type": "code",
   "id": "f24ed9eb-7a0b-4fc9-98ce-e4cd26a2861a",
   "metadata": {},
   "source": "animateSolution(visibilityPRM, environment, solution, IPVISVisibilityPRM.visibilityPRMVisualize)",
   "outputs": [],
   "execution_count": null
  },
  {
   "metadata": {},
   "cell_type": "markdown",
   "source": "## Lazy PRM",
   "id": "9bc81bdced712134"
  },
  {
   "metadata": {},
   "cell_type": "code",
   "source": [
    "import IPLazyPRM\n",
    "import IPVISLazyPRM"
   ],
   "id": "a51d36d3e42e716c",
   "outputs": [],
   "execution_count": null
  },
  {
   "cell_type": "code",
   "id": "b1f0e58b-a765-4646-9e5e-38750a6b0090",
   "metadata": {},
   "source": [
    "lazyPRM = IPLazyPRM.LazyPRM(environment)\n",
    "lazyConfig = dict()\n",
    "lazyConfig[\"initialRoadmapSize\"] = 20\n",
    "lazyConfig[\"updateRoadmapSize\"]  = 5 \n",
    "lazyConfig[\"kNearest\"] = 15\n",
    "lazyConfig[\"maxIterations\"] = 15\n",
    "\n",
    "start = [start_joint_pos]\n",
    "goal  = [end_joint_pos]\n",
    "## plan path from start ot goal\n",
    "solution = lazyPRM.planPath(start, goal, lazyConfig)\n",
    "print(solution)\n"
   ],
   "outputs": [],
   "execution_count": null
  },
  {
   "cell_type": "code",
   "id": "24719374-95fb-4993-b7f6-f6a39a96da10",
   "metadata": {},
   "source": "animateSolution(lazyPRM, environment, solution, IPVISLazyPRM.lazyPRMVisualize)",
   "outputs": [],
   "execution_count": null
  },
  {
   "cell_type": "code",
   "id": "8051f83f-334a-40f3-8439-e1192e363997",
   "metadata": {},
   "source": "",
   "outputs": [],
   "execution_count": null
  },
  {
   "cell_type": "code",
   "id": "e1ecc75e-91c9-40ab-acf6-d37374e2020a",
   "metadata": {},
   "source": [],
   "outputs": [],
   "execution_count": null
  }
 ],
 "metadata": {
  "kernelspec": {
   "display_name": "base",
   "language": "python",
   "name": "python3"
  },
  "language_info": {
   "codemirror_mode": {
    "name": "ipython",
    "version": 3
   },
   "file_extension": ".py",
   "mimetype": "text/x-python",
   "name": "python",
   "nbconvert_exporter": "python",
   "pygments_lexer": "ipython3",
   "version": "3.12.3"
  }
 },
 "nbformat": 4,
 "nbformat_minor": 5
}
