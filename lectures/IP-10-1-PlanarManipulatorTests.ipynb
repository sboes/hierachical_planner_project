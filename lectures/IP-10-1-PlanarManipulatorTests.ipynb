{
 "cells": [
  {
   "cell_type": "markdown",
   "metadata": {
    "tags": []
   },
   "source": [
    "Tests for Kinematic-Environment\n",
    "===============================\n",
    "\n",
    "\n",
    "Version | Author\n",
    "------------ | -------------\n",
    "0.1 | Björn Hein, extendig work from Gergely Soti\n",
    "\n",
    "License is based on Creative Commons: Attribution-NonCommercial 4.0 International (CC BY-NC 4.0) (pls. check: http://creativecommons.org/licenses/by-nc/4.0/)"
   ]
  },
  {
   "cell_type": "markdown",
   "metadata": {
    "vscode": {
     "languageId": "markdown"
    }
   },
   "source": [
    "# Setting up a simple example using an articulated robot"
   ]
  },
  {
   "cell_type": "code",
   "metadata": {},
   "source": [
    "from IPPlanarManipulator import PlanarJoint, PlanarRobot, generate_consistent_joint_config\n",
    "from IPEnvironmentKin import KinChainCollisionChecker, planarRobotVisualize\n",
    "import matplotlib.pyplot as plt\n",
    "from shapely.geometry import Point, Polygon, LineString\n",
    "from shapely import plotting\n",
    "import sympy as sp\n",
    "import numpy as np\n",
    "\n",
    "obst = dict()\n",
    "obst[\"obs1\"] = LineString([(-2, 0), (-0.8, 0)]).buffer(0.5)\n",
    "obst[\"obs2\"] = LineString([(2, 0), (2, 1)]).buffer(0.2)\n",
    "obst[\"obs3\"] = LineString([(-1, 2), (1, 2)]).buffer(0.1)\n"
   ],
   "outputs": [],
   "execution_count": null
  },
  {
   "cell_type": "markdown",
   "metadata": {
    "vscode": {
     "languageId": "markdown"
    }
   },
   "source": [
    "## 2-DOF Example"
   ]
  },
  {
   "cell_type": "markdown",
   "metadata": {},
   "source": [
    "Create environment with robot and obstacle."
   ]
  },
  {
   "cell_type": "code",
   "metadata": {},
   "source": [
    "r = PlanarRobot(n_joints=2, total_length=3.5)\n",
    "environment = KinChainCollisionChecker(r, obst,fk_resolution=.2)"
   ],
   "outputs": [],
   "execution_count": null
  },
  {
   "cell_type": "markdown",
   "metadata": {
    "vscode": {
     "languageId": "markdown"
    }
   },
   "source": [
    "Draw start and goal position of robot within the environment"
   ]
  },
  {
   "cell_type": "code",
   "metadata": {},
   "source": [
    "start_joint_angles = generate_consistent_joint_config(r.dim, total_angle=2.0, curvature=0.45)\n",
    "start_joint_pos = sp.Matrix(start_joint_angles)\n",
    "\n",
    "end_joint_angles = generate_consistent_joint_config(r.dim, total_angle=-1.85, curvature=-0.45)\n",
    "end_joint_pos = sp.Matrix(end_joint_angles)\n",
    "\n",
    "\n",
    "\n",
    "\n",
    "\n",
    "fig_local = plt.figure(figsize=(14, 7))\n",
    "## right figure for robot start position\n",
    "ax1 = fig_local.add_subplot(1, 2, 1)\n",
    "ax1.set_xlim([-4,4])\n",
    "ax1.set_ylim([-4,4])\n",
    "environment.drawObstacles(ax1, True)\n",
    "r.move(start_joint_pos)\n",
    "planarRobotVisualize(r, ax1)\n",
    "r.move(end_joint_pos)\n",
    "planarRobotVisualize(r, ax1)"
   ],
   "outputs": [],
   "execution_count": null
  },
  {
   "cell_type": "markdown",
   "metadata": {},
   "source": [
    "Plan path with LazyPRM"
   ]
  },
  {
   "cell_type": "code",
   "metadata": {},
   "source": [
    "import IPLazyPRM\n",
    "import IPVISLazyPRM\n",
    "\n",
    "lazyPRM = IPLazyPRM.LazyPRM(environment)\n",
    "lazyConfig = dict()\n",
    "lazyConfig[\"initialRoadmapSize\"] = 20\n",
    "lazyConfig[\"updateRoadmapSize\"]  = 5 \n",
    "lazyConfig[\"kNearest\"] = 15\n",
    "lazyConfig[\"maxIterations\"] = 15\n",
    "\n",
    "start_joint_pos = [2.0, 0.5]\n",
    "end_joint_pos = [-2.0, -0.5]\n",
    "\n",
    "start = [start_joint_pos]\n",
    "goal  = [end_joint_pos]\n",
    "\n",
    "## plan path from start ot goal\n",
    "solution = lazyPRM.planPath(start, goal, lazyConfig)\n",
    "print(solution)"
   ],
   "outputs": [],
   "execution_count": null
  },
  {
   "cell_type": "markdown",
   "metadata": {},
   "source": [
    "Animate the solution. When the robot is 2-Dof then Work-space and Configuration-space will be shown. please check function 'animateSolution' in module 'IPEnvironmentKin.py'."
   ]
  },
  {
   "cell_type": "code",
   "metadata": {},
   "source": [
    "from IPEnvironmentKin import animateSolution\n",
    "animateSolution(lazyPRM, environment, solution, IPVISLazyPRM.lazyPRMVisualize)"
   ],
   "outputs": [],
   "execution_count": null
  },
  {
   "cell_type": "markdown",
   "metadata": {},
   "source": [
    "## Extend to a 3-Dof robot"
   ]
  },
  {
   "cell_type": "code",
   "metadata": {},
   "source": [
    "r = PlanarRobot(n_joints=3, total_length=3.5)\n",
    "limits = [[-3.14,3.14]] * r.dim\n",
    "environment = KinChainCollisionChecker(r, obst,limits=limits, fk_resolution=.2)"
   ],
   "outputs": [],
   "execution_count": null
  },
  {
   "cell_type": "code",
   "metadata": {},
   "source": [
    "start_joint_angles = generate_consistent_joint_config(r.dim, total_angle=2.00, curvature=0.45)\n",
    "start_joint_pos = sp.Matrix(start_joint_angles)\n",
    "\n",
    "end_joint_angles = generate_consistent_joint_config(r.dim, total_angle=-1.85, curvature=-0.45)\n",
    "end_joint_pos = sp.Matrix(end_joint_angles)\n"
   ],
   "outputs": [],
   "execution_count": null
  },
  {
   "cell_type": "code",
   "metadata": {},
   "source": [
    "fig_local = plt.figure(figsize=(14, 7))\n",
    "ax1 = fig_local.add_subplot(1, 2, 1)\n",
    "ax1.set_xlim([-4,4])\n",
    "ax1.set_ylim([-4,4])\n",
    "environment.drawObstacles(ax1, True)\n",
    "r.move(start_joint_pos)\n",
    "planarRobotVisualize(r, ax1)\n",
    "r.move(end_joint_pos)\n",
    "planarRobotVisualize(r, ax1)"
   ],
   "outputs": [],
   "execution_count": null
  },
  {
   "cell_type": "code",
   "metadata": {},
   "source": [
    "import IPLazyPRM\n",
    "import IPVISLazyPRM\n",
    "\n",
    "lazyPRM = IPLazyPRM.LazyPRM(environment)\n",
    "lazyConfig = dict()\n",
    "lazyConfig[\"initialRoadmapSize\"] = 20\n",
    "lazyConfig[\"updateRoadmapSize\"]  = 5\n",
    "lazyConfig[\"kNearest\"] = 15\n",
    "lazyConfig[\"maxIterations\"] = 50\n",
    "\n",
    "start = [np.array(start_joint_angles, dtype=np.float32)]\n",
    "goal = [np.array(end_joint_angles, dtype=np.float32)]\n",
    "\n",
    "## plan path from start ot goal\n",
    "solution = lazyPRM.planPath(start, goal, lazyConfig)\n",
    "print(solution)\n"
   ],
   "outputs": [],
   "execution_count": null
  },
  {
   "cell_type": "markdown",
   "metadata": {},
   "source": [
    "Remark: As the robot is now 3-Dof only the Work-space will be shown:"
   ]
  },
  {
   "cell_type": "code",
   "metadata": {},
   "source": "animateSolution(lazyPRM, environment, solution, IPVISLazyPRM.lazyPRMVisualize)",
   "outputs": [],
   "execution_count": null
  },
  {
   "cell_type": "markdown",
   "metadata": {},
   "source": [
    "## Extend to a 4-Dof robot\n",
    "(Attention: could take several minutes for planning, especially if not a Lazy-variant)"
   ]
  },
  {
   "cell_type": "code",
   "metadata": {},
   "source": [
    "r = PlanarRobot(n_joints=4, total_length=3.5)\n",
    "limits = [[-3.14,3.14]] * r.dim\n",
    "environment = KinChainCollisionChecker(r, obst,limits=limits, fk_resolution=.2)"
   ],
   "outputs": [],
   "execution_count": null
  },
  {
   "cell_type": "code",
   "metadata": {},
   "source": [
    "start_joint_angles = generate_consistent_joint_config(r.dim, total_angle=2, curvature=0.45)\n",
    "start_joint_pos = sp.Matrix(start_joint_angles)\n",
    "\n",
    "end_joint_angles = generate_consistent_joint_config(r.dim, total_angle=-1.85, curvature=-0.45)\n",
    "end_joint_pos = sp.Matrix(end_joint_angles)\n"
   ],
   "outputs": [],
   "execution_count": null
  },
  {
   "cell_type": "code",
   "metadata": {},
   "source": [
    "fig_local = plt.figure(figsize=(14, 7))\n",
    "ax1 = fig_local.add_subplot(1, 2, 1)\n",
    "ax1.set_xlim([-4,4])\n",
    "ax1.set_ylim([-4,4])\n",
    "environment.drawObstacles(ax1, True)\n",
    "r.move(start_joint_pos)\n",
    "planarRobotVisualize(r, ax1)\n",
    "r.move(end_joint_pos)\n",
    "planarRobotVisualize(r, ax1)"
   ],
   "outputs": [],
   "execution_count": null
  },
  {
   "cell_type": "code",
   "metadata": {},
   "source": [
    "lazyPRM = IPLazyPRM.LazyPRM(environment)\n",
    "lazyConfig = dict()\n",
    "lazyConfig[\"initialRoadmapSize\"] = 100\n",
    "lazyConfig[\"updateRoadmapSize\"]  = 30\n",
    "lazyConfig[\"kNearest\"] = 15\n",
    "lazyConfig[\"maxIterations\"] = 50\n",
    "\n",
    "start = [np.array(start_joint_angles, dtype=np.float32)]\n",
    "goal = [np.array(end_joint_angles, dtype=np.float32)]\n",
    "## plan path from start ot goal\n",
    "solution = lazyPRM.planPath(start, goal, lazyConfig)\n",
    "print(solution)\n"
   ],
   "outputs": [],
   "execution_count": null
  },
  {
   "metadata": {},
   "cell_type": "code",
   "source": "animateSolution(lazyPRM, environment, solution, IPVISLazyPRM.lazyPRMVisualize, workSpaceLimits=[[-3,3],[-3,3]])",
   "outputs": [],
   "execution_count": null
  },
  {
   "metadata": {},
   "cell_type": "code",
   "source": [
    "r = PlanarRobot(n_joints=8, total_length=3.5)\n",
    "limits = [[-3.14,3.14]] * r.dim\n",
    "environment = KinChainCollisionChecker(r, obst,limits=limits, fk_resolution=.2)"
   ],
   "outputs": [],
   "execution_count": null
  },
  {
   "metadata": {},
   "cell_type": "code",
   "source": [
    "start_joint_angles = generate_consistent_joint_config(r.dim, total_angle=2, curvature=0.45)\n",
    "start_joint_pos = sp.Matrix(start_joint_angles)\n",
    "\n",
    "end_joint_angles = generate_consistent_joint_config(r.dim, total_angle=-1.85, curvature=-0.45)\n",
    "end_joint_pos = sp.Matrix(end_joint_angles)\n",
    "\n",
    "\n",
    "\n",
    "\n",
    "\n",
    "fig_local = plt.figure(figsize=(14, 7))\n",
    "## right figure for robot start position\n",
    "ax1 = fig_local.add_subplot(1, 2, 1)\n",
    "ax1.set_xlim([-4,4])\n",
    "ax1.set_ylim([-4,4])\n",
    "environment.drawObstacles(ax1, True)\n",
    "r.move(start_joint_pos)\n",
    "planarRobotVisualize(r, ax1)\n",
    "r.move(end_joint_pos)\n",
    "planarRobotVisualize(r, ax1)"
   ],
   "outputs": [],
   "execution_count": null
  },
  {
   "metadata": {},
   "cell_type": "code",
   "source": [
    "lazyPRM = IPLazyPRM.LazyPRM(environment)\n",
    "lazyConfig = dict()\n",
    "lazyConfig[\"initialRoadmapSize\"] = 100\n",
    "lazyConfig[\"updateRoadmapSize\"]  = 30\n",
    "lazyConfig[\"kNearest\"] = 15\n",
    "lazyConfig[\"maxIterations\"] = 50\n",
    "\n",
    "start = [np.array(start_joint_angles, dtype=np.float32)]\n",
    "goal = [np.array(end_joint_angles, dtype=np.float32)]\n",
    "## plan path from start ot goal\n",
    "solution = lazyPRM.planPath(start, goal, lazyConfig)\n",
    "print(solution)\n"
   ],
   "outputs": [],
   "execution_count": null
  },
  {
   "cell_type": "code",
   "metadata": {},
   "source": "animateSolution(lazyPRM, environment, solution, IPVISLazyPRM.lazyPRMVisualize, workSpaceLimits=[[-3,3],[-3,3]])",
   "outputs": [],
   "execution_count": null
  },
  {
   "cell_type": "code",
   "metadata": {},
   "source": [
    "import IPVisibilityPRM\n",
    "import IPVISVisibilityPRM\n",
    "visbilityConfig = dict()\n",
    "visbilityConfig[\"ntry\"] = 100\n",
    "\n",
    "visibilityPRM = IPVisibilityPRM.VisPRM(environment)\n",
    "start = [start_joint_pos]\n",
    "goal  = [end_joint_pos]\n",
    "## plan path from start ot goal\n",
    "solution = visibilityPRM.planPath(start, goal, visbilityConfig)\n",
    "print(solution)"
   ],
   "outputs": [],
   "execution_count": null
  },
  {
   "cell_type": "code",
   "metadata": {},
   "source": [
    "from IPEnvironmentKin import animateSolution\n",
    "animateSolution(visibilityPRM, environment, solution, IPVISVisibilityPRM.visibilityPRMVisualize, workSpaceLimits=[[-3,3],[-3,3]])"
   ],
   "outputs": [],
   "execution_count": null
  },
  {
   "cell_type": "code",
   "metadata": {},
   "source": [],
   "outputs": [],
   "execution_count": null
  }
 ],
 "metadata": {
  "kernelspec": {
   "display_name": "base",
   "language": "python",
   "name": "python3"
  },
  "language_info": {
   "codemirror_mode": {
    "name": "ipython",
    "version": 3
   },
   "file_extension": ".py",
   "mimetype": "text/x-python",
   "name": "python",
   "nbconvert_exporter": "python",
   "pygments_lexer": "ipython3",
   "version": "3.12.3"
  }
 },
 "nbformat": 4,
 "nbformat_minor": 4
}
